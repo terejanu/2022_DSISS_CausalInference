{
 "cells": [
  {
   "cell_type": "code",
   "execution_count": null,
   "metadata": {},
   "outputs": [],
   "source": [
    "#!pip install dowhy"
   ]
  },
  {
   "cell_type": "code",
   "execution_count": null,
   "metadata": {},
   "outputs": [],
   "source": [
    "import numpy as np\n",
    "import pandas as pd\n",
    "import matplotlib.pyplot as plt\n",
    "from sklearn import datasets\n",
    "from sklearn.preprocessing import StandardScaler\n",
    "from dowhy import CausalModel\n",
    "\n",
    "%matplotlib inline"
   ]
  },
  {
   "cell_type": "code",
   "execution_count": null,
   "metadata": {},
   "outputs": [],
   "source": [
    "# (1) What is the causal effect of AveRooms on MedHouseVal?\n",
    "# (2) How does it compare with the linear coefficient found in part1_regression_sklearn.jpynb"
   ]
  },
  {
   "cell_type": "code",
   "execution_count": null,
   "metadata": {},
   "outputs": [],
   "source": [
    "# Step 0 - Load data\n",
    "ds = datasets.fetch_california_housing()\n",
    "X = ds.data\n",
    "y = ds.target\n",
    "\n",
    "# remove very cheap or very expensive homes (saturates =< 0.15 or >= 5)\n",
    "ind = (y > 0.15) & (y < 5)\n",
    "X = X[ind,:]\n",
    "y = y[ind]\n",
    "\n",
    "# transform target - more Gaussian\n",
    "y = np.log(y)\n",
    "\n",
    "# scale attributes\n",
    "scaler = StandardScaler()\n",
    "X_scaled = scaler.fit_transform(X)\n",
    "\n",
    "\n",
    "df = pd.DataFrame(X_scaled, columns=ds.feature_names)\n",
    "df[ds.target_names[0]] = y\n",
    "df"
   ]
  },
  {
   "cell_type": "code",
   "execution_count": null,
   "metadata": {},
   "outputs": [],
   "source": [
    "# Step 1 - Build the causal graph and model the problem\n",
    "causal_graph = \"\"\"\n",
    "graph\n",
    "[\n",
    "  directed 1\n",
    "\"\"\"\n",
    "\n",
    "# add all the nodes\n",
    "for c in df.columns:\n",
    "    causal_graph += f\"\"\"\n",
    "      node\n",
    "      [\n",
    "       id {c}\n",
    "       label \"{c}\"\n",
    "      ]    \n",
    "    \"\"\"\n",
    "\n",
    "# add edges from all the features to the target\n",
    "t = ds.target_names[0]\n",
    "for f in ds.feature_names:\n",
    "    causal_graph += f\"\"\"\n",
    "      edge\n",
    "      [\n",
    "       source {f}\n",
    "       target {t}\n",
    "       label \"{f} -> {t}\"\n",
    "      ]  \n",
    "    \"\"\"    \n",
    "    \n",
    "# add location as a common source\n",
    "for s in ['Latitude', 'Longitude']:\n",
    "    for t in ['MedInc', 'HouseAge', 'Population']:\n",
    "        causal_graph += f\"\"\"\n",
    "          edge\n",
    "          [\n",
    "           source {s}\n",
    "           target {t}\n",
    "           label \"{s} -> {t}\"\n",
    "          ]  \n",
    "        \"\"\"      \n",
    "\n",
    "causal_graph += f\"\"\"\n",
    "  edge\n",
    "  [\n",
    "   source HouseAge\n",
    "   target AveRooms\n",
    "   label \"HouseAge -> AveRooms\"\n",
    "  ]\n",
    "  edge\n",
    "  [\n",
    "   source HouseAge\n",
    "   target AveBedrms\n",
    "   label \"HouseAge -> AveBedrms\"\n",
    "  ]  \n",
    "\"\"\"  \n",
    "        \n",
    "causal_graph += \"\"\"  \n",
    "]\n",
    "\"\"\"\n",
    "\n",
    "print(causal_graph)"
   ]
  },
  {
   "cell_type": "code",
   "execution_count": null,
   "metadata": {},
   "outputs": [],
   "source": [
    "model = CausalModel(df,\n",
    "                    treatment=[\"AveRooms\"], outcome=\"MedHouseVal\",\n",
    "                    graph=causal_graph,\n",
    "                    missing_nodes_as_confounders=False)\n",
    "\n",
    "model.view_model()"
   ]
  },
  {
   "cell_type": "code",
   "execution_count": null,
   "metadata": {},
   "outputs": [],
   "source": [
    "# Step 2 - Identify direct and indirect effects\n",
    "identified_estimand = model.identify_effect(proceed_when_unidentifiable=True)\n",
    "print(identified_estimand)"
   ]
  },
  {
   "cell_type": "code",
   "execution_count": null,
   "metadata": {},
   "outputs": [],
   "source": [
    "# Step 3 - Estimate the effects\n",
    "linear_estimate = model.estimate_effect(identified_estimand,\n",
    "                                        method_name=\"backdoor.linear_regression\",\n",
    "                                        control_value=0,\n",
    "                                        treatment_value=1)\n",
    "print(\"Causal Estimate is \" + str(linear_estimate.value))"
   ]
  },
  {
   "cell_type": "code",
   "execution_count": null,
   "metadata": {},
   "outputs": [],
   "source": [
    "# Step 4 - Refute the obtained estimate using multiple robustness checks.\n",
    "refute_results = model.refute_estimate(identified_estimand, linear_estimate,\n",
    "                                       method_name=\"random_common_cause\")\n",
    "print(refute_results)"
   ]
  },
  {
   "cell_type": "code",
   "execution_count": null,
   "metadata": {},
   "outputs": [],
   "source": []
  }
 ],
 "metadata": {
  "kernelspec": {
   "display_name": "Python 3",
   "language": "python",
   "name": "python3"
  },
  "language_info": {
   "codemirror_mode": {
    "name": "ipython",
    "version": 3
   },
   "file_extension": ".py",
   "mimetype": "text/x-python",
   "name": "python",
   "nbconvert_exporter": "python",
   "pygments_lexer": "ipython3",
   "version": "3.8.3"
  }
 },
 "nbformat": 4,
 "nbformat_minor": 4
}
